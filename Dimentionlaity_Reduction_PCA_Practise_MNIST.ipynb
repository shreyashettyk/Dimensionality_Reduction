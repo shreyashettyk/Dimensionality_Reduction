{
 "cells": [
  {
   "cell_type": "code",
   "execution_count": 3,
   "metadata": {},
   "outputs": [],
   "source": [
    "import numpy as np\n",
    "import pandas as pd\n",
    "import matplotlib.pyplot as plt "
   ]
  },
  {
   "cell_type": "code",
   "execution_count": 4,
   "metadata": {},
   "outputs": [],
   "source": [
    "data = pd.read_csv('mnist_train.csv')\n"
   ]
  },
  {
   "cell_type": "code",
   "execution_count": 5,
   "metadata": {},
   "outputs": [
    {
     "name": "stdout",
     "output_type": "stream",
     "text": [
      "Rows and columns in the data  (42000, 785)\n",
      "Dimenstiona;lity of the data  785\n"
     ]
    }
   ],
   "source": [
    "print('Rows and columns in the data ',data.shape)\n",
    "print('Dimenstiona;lity of the data ',data.shape[1])"
   ]
  },
  {
   "cell_type": "code",
   "execution_count": 6,
   "metadata": {},
   "outputs": [],
   "source": [
    "#the label column contains the final class label or the output varriable \n",
    "#lets drop the class label i.e yi and keep only the xi's \n",
    "l = data['label']\n",
    "d = data.drop('label',axis=1)"
   ]
  },
  {
   "cell_type": "code",
   "execution_count": 7,
   "metadata": {},
   "outputs": [
    {
     "data": {
      "text/plain": [
       "784"
      ]
     },
     "execution_count": 7,
     "metadata": {},
     "output_type": "execute_result"
    }
   ],
   "source": [
    "#checking the shape of d after the removeal of the label series i,e yi\n",
    "d.shape[1]"
   ]
  },
  {
   "cell_type": "code",
   "execution_count": 8,
   "metadata": {},
   "outputs": [
    {
     "name": "stdout",
     "output_type": "stream",
     "text": [
      "enter any number from 0-7845\n"
     ]
    }
   ],
   "source": [
    "#each row in the d datafrsme containe 784 features representing a number(0-9) when reshaped \n",
    "#to 28*28 matrix\n",
    "#here the random row is chosen here 0, containf 784 elements which is then converted to 28*28 mattix\n",
    "i = int(input('enter any number from 0-784'))\n",
    "samp_arr = np.array(d.loc[i])\n",
    "samp = samp_arr.reshape(28,28)\n"
   ]
  },
  {
   "cell_type": "code",
   "execution_count": 9,
   "metadata": {
    "scrolled": true
   },
   "outputs": [
    {
     "data": {
      "image/png": "[encoded data removed]",
      "text/plain": [
       "<Figure size 432x288 with 1 Axes>"
      ]
     },
     "metadata": {},
     "output_type": "display_data"
    }
   ],
   "source": [
    "plt.imshow(samp,interpolation=None,cmap='gray')\n",
    "plt.show()"
   ]
  },
  {
   "cell_type": "code",
   "execution_count": 10,
   "metadata": {},
   "outputs": [
    {
     "name": "stdout",
     "output_type": "stream",
     "text": [
      "verifying the image with the class label :  0\n"
     ]
    }
   ],
   "source": [
    "print('verifying the image with the class label : ',l[i])"
   ]
  },
  {
   "cell_type": "code",
   "execution_count": 11,
   "metadata": {},
   "outputs": [],
   "source": [
    "#Reducing the dimnesionality using the PCA step by step"
   ]
  },
  {
   "cell_type": "code",
   "execution_count": 12,
   "metadata": {},
   "outputs": [],
   "source": [
    "from sklearn.preprocessing import StandardScaler\n"
   ]
  },
  {
   "cell_type": "code",
   "execution_count": 13,
   "metadata": {},
   "outputs": [],
   "source": [
    "d_samp = d.head(15000)\n",
    "l_samp = l.head(15000)\n",
    "\n"
   ]
  },
  {
   "cell_type": "code",
   "execution_count": 14,
   "metadata": {},
   "outputs": [],
   "source": [
    "#step 1 : standardise the data\n",
    "standardised_values = StandardScaler().fit_transform(d_samp)\n",
    "#step 2 find the covariance matrix S\n",
    "covar_matrix = (np.matmul(standardised_values.T,standardised_values))*(1/15000)\n"
   ]
  },
  {
   "cell_type": "code",
   "execution_count": 15,
   "metadata": {},
   "outputs": [],
   "source": [
    "#Step 3 find the eigen values and the eigen vector from the covar matrix\n",
    "from scipy.linalg import eigh\n",
    "eigen_values,eigen_vectors = eigh(covar_matrix,eigvals=(782,783))"
   ]
  },
  {
   "cell_type": "code",
   "execution_count": 16,
   "metadata": {},
   "outputs": [
    {
     "name": "stdout",
     "output_type": "stream",
     "text": [
      " shape of eigen_values  (2,)\n",
      " shape of eigen_vectros  (784, 2)\n",
      "[[0. 0.]\n",
      " [0. 0.]\n",
      " [0. 0.]\n",
      " ...\n",
      " [0. 0.]\n",
      " [0. 0.]\n",
      " [0. 0.]]\n",
      "[29.03550386 40.38128612]\n"
     ]
    }
   ],
   "source": [
    "#inspecting the eigen values and eigen vectors\n",
    "\n",
    "print(' shape of eigen_values ',eigen_values.shape)\n",
    "print(' shape of eigen_vectros ',eigen_vectors.shape)\n",
    "\n",
    "print(eigen_vectors)\n",
    "print(eigen_values)\n",
    "# eigen_vectors = eigen_vectors.T\n"
   ]
  },
  {
   "cell_type": "code",
   "execution_count": 17,
   "metadata": {},
   "outputs": [
    {
     "name": "stdout",
     "output_type": "stream",
     "text": [
      "(784, 2)\n",
      "(2, 784)\n",
      "(784,)\n",
      "(784,)\n",
      "(2, 784)\n",
      "(784, 2)\n"
     ]
    }
   ],
   "source": [
    "print(eigen_vectors.shape)\n",
    "eigen_vectors = eigen_vectors.T\n",
    "print(eigen_vectors.shape)\n",
    "v1 = eigen_vectors[1]\n",
    "v2 = eigen_vectors[0]\n",
    "print(v1.shape)\n",
    "print(v2.shape)\n",
    "e = np.array([v1,v2])\n",
    "print(e.shape)\n",
    "e = e.T\n",
    "print(e.shape)"
   ]
  },
  {
   "cell_type": "code",
   "execution_count": 18,
   "metadata": {},
   "outputs": [
    {
     "name": "stdout",
     "output_type": "stream",
     "text": [
      "[[0. 0.]\n",
      " [0. 0.]\n",
      " [0. 0.]\n",
      " ...\n",
      " [0. 0.]\n",
      " [0. 0.]\n",
      " [0. 0.]]\n",
      "shape of standardised_values  (15000, 784)\n",
      "shape of eigen_vectors  (784, 2)\n",
      "shape of outcome  (15000, 2)\n"
     ]
    }
   ],
   "source": [
    "#compute the transormed data using the pca for maximised variance\n",
    "print(e)\n",
    "outcome = np.matmul(standardised_values,e)\n",
    "print('shape of standardised_values ',standardised_values.shape)\n",
    "print('shape of eigen_vectors ',e.shape)\n",
    "print('shape of outcome ',outcome.shape)"
   ]
  },
  {
   "cell_type": "code",
   "execution_count": 19,
   "metadata": {},
   "outputs": [
    {
     "data": {
      "text/html": [
       "<div>\n",
       "<style scoped>\n",
       "    .dataframe tbody tr th:only-of-type {\n",
       "        vertical-align: middle;\n",
       "    }\n",
       "\n",
       "    .dataframe tbody tr th {\n",
       "        vertical-align: top;\n",
       "    }\n",
       "\n",
       "    .dataframe thead th {\n",
       "        text-align: right;\n",
       "    }\n",
       "</style>\n",
       "<table border=\"1\" class=\"dataframe\">\n",
       "  <thead>\n",
       "    <tr style=\"text-align: right;\">\n",
       "      <th></th>\n",
       "      <th>first</th>\n",
       "      <th>second</th>\n",
       "    </tr>\n",
       "  </thead>\n",
       "  <tbody>\n",
       "    <tr>\n",
       "      <th>0</th>\n",
       "      <td>-5.043558</td>\n",
       "      <td>-5.558661</td>\n",
       "    </tr>\n",
       "    <tr>\n",
       "      <th>1</th>\n",
       "      <td>19.305278</td>\n",
       "      <td>6.193635</td>\n",
       "    </tr>\n",
       "    <tr>\n",
       "      <th>2</th>\n",
       "      <td>-7.678775</td>\n",
       "      <td>-1.909878</td>\n",
       "    </tr>\n",
       "    <tr>\n",
       "      <th>3</th>\n",
       "      <td>-0.464845</td>\n",
       "      <td>5.525748</td>\n",
       "    </tr>\n",
       "    <tr>\n",
       "      <th>4</th>\n",
       "      <td>26.644289</td>\n",
       "      <td>6.366527</td>\n",
       "    </tr>\n",
       "  </tbody>\n",
       "</table>\n",
       "</div>"
      ],
      "text/plain": [
       "       first    second\n",
       "0  -5.043558 -5.558661\n",
       "1  19.305278  6.193635\n",
       "2  -7.678775 -1.909878\n",
       "3  -0.464845  5.525748\n",
       "4  26.644289  6.366527"
      ]
     },
     "execution_count": 19,
     "metadata": {},
     "output_type": "execute_result"
    }
   ],
   "source": [
    "df = pd.DataFrame(data=outcome,columns=['first','second'])\n",
    "df.head()"
   ]
  },
  {
   "cell_type": "code",
   "execution_count": 20,
   "metadata": {},
   "outputs": [],
   "source": [
    "df['labels'] = l_samp"
   ]
  },
  {
   "cell_type": "code",
   "execution_count": 21,
   "metadata": {},
   "outputs": [
    {
     "name": "stdout",
     "output_type": "stream",
     "text": [
      "           first     second  labels\n",
      "0      -5.043558  -5.558661       1\n",
      "1      19.305278   6.193635       0\n",
      "2      -7.678775  -1.909878       1\n",
      "3      -0.464845   5.525748       4\n",
      "4      26.644289   6.366527       0\n",
      "5       1.201279  -0.557059       0\n",
      "6      -6.118906   6.440129       7\n",
      "7       0.215520   4.421476       3\n",
      "8      -0.724664  -1.315634       5\n",
      "9       3.106035  -2.603522       3\n",
      "10      0.521896  -4.865919       8\n",
      "11     -5.077128  -2.417982       9\n",
      "12     -8.126317  -2.070965       1\n",
      "13      1.175139  13.625508       3\n",
      "14      6.435996   0.355688       3\n",
      "15     -8.004978  -1.239159       1\n",
      "16      0.619563   5.284199       2\n",
      "17      8.356832  -9.519940       0\n",
      "18     -6.802767   1.647782       7\n",
      "19     11.790011   4.956147       5\n",
      "20     -3.643102  -5.293540       8\n",
      "21      4.728578  -7.265334       6\n",
      "22      0.528768  -1.127893       2\n",
      "23     20.915435   4.634770       0\n",
      "24     -1.586639   6.557648       2\n",
      "25      1.873747  -4.346672       3\n",
      "26     -0.790410  -1.305911       6\n",
      "27     -6.936039  -2.700027       9\n",
      "28     -7.001249   0.755703       9\n",
      "29     -2.416510  14.805875       7\n",
      "...          ...        ...     ...\n",
      "14970   0.698031  -6.903763       3\n",
      "14971  -3.708871   5.382017       4\n",
      "14972  -5.238599  -0.078275       7\n",
      "14973  -7.746601  -3.604869       1\n",
      "14974  -2.054064  -5.653460       5\n",
      "14975  -1.319329  -2.153135       5\n",
      "14976   5.250501   9.006060       4\n",
      "14977   2.507025   0.926104       8\n",
      "14978   0.676163  -3.909121       8\n",
      "14979  -3.202061  -7.321053       1\n",
      "14980   8.397665   0.696709       8\n",
      "14981   4.046597   2.345829       7\n",
      "14982   9.605294   3.541825       5\n",
      "14983  -1.838301  -4.943186       3\n",
      "14984  -8.546301  -2.735491       1\n",
      "14985   0.631771   9.896587       9\n",
      "14986  -1.879484  -0.046247       5\n",
      "14987   5.775645   4.857983       8\n",
      "14988  17.378819  -6.124345       0\n",
      "14989  -2.480354   5.309561       9\n",
      "14990   2.189768   2.866854       3\n",
      "14991  -5.496551  -2.040221       2\n",
      "14992   4.196801   6.231479       3\n",
      "14993  23.667941   1.173299       0\n",
      "14994   2.470536  -1.462002       2\n",
      "14995  -4.758956   3.139416       1\n",
      "14996  -1.314215   1.946714       4\n",
      "14997  -1.507269  -2.147937       8\n",
      "14998  -6.537313   3.204122       9\n",
      "14999  -1.256254  -6.878969       6\n",
      "\n",
      "[15000 rows x 3 columns]\n"
     ]
    }
   ],
   "source": [
    "print(df)"
   ]
  },
  {
   "cell_type": "code",
   "execution_count": 22,
   "metadata": {},
   "outputs": [
    {
     "name": "stdout",
     "output_type": "stream",
     "text": [
      "dim of reduced data  (15000, 2)\n",
      "   first_principle  second_priciple\n",
      "0        -5.043577        -5.558589\n",
      "1        19.305259         6.193478\n",
      "2        -7.678762        -1.910327\n",
      "3        -0.464875         5.525206\n",
      "4        26.644271         6.366670\n"
     ]
    }
   ],
   "source": [
    "from sklearn import decomposition\n",
    "pca = decomposition.PCA()\n",
    "pca.n_components = 2\n",
    "pca_data = pca.fit_transform(standardised_values)\n",
    "print('dim of reduced data ',pca_data.shape)\n",
    "df = pd.DataFrame(data = pca_data,columns=['first_principle','second_priciple'])\n",
    "print(df.head())"
   ]
  },
  {
   "cell_type": "code",
   "execution_count": 35,
   "metadata": {},
   "outputs": [
    {
     "name": "stdout",
     "output_type": "stream",
     "text": [
      "784\n",
      "784\n",
      "29.113306727004446\n"
     ]
    },
    {
     "data": {
      "image/png": "[encoded data removed]",
      "text/plain": [
       "<Figure size 432x288 with 1 Axes>"
      ]
     },
     "metadata": {},
     "output_type": "display_data"
    }
   ],
   "source": [
    "pca1  = decomposition.PCA()\n",
    "pca1.n_componenets = 250\n",
    "pca_data = pca1.fit_transform(standardised_values)\n",
    "percentage_explainned_variance = pca1.explained_variance_/np.sum(pca1.explained_variance_)\n",
    "# print(percentage_explainned_variance)\n",
    "print(len(percentage_explainned_variance))\n",
    "\n",
    "calculated = np.cumsum(percentage_explainned_variance)\n",
    "print(len(calculated))\n",
    "print(calculated[9]*100)\n",
    "# print(calculated)\n",
    "plt.plot(calculated)\n",
    "plt.ylabel('% of data that will be preserved')\n",
    "plt.xlabel('Number of principal componensts')\n",
    "plt.show()"
   ]
  },
  {
   "cell_type": "code",
   "execution_count": 41,
   "metadata": {},
   "outputs": [
    {
     "name": "stdout",
     "output_type": "stream",
     "text": [
      "shreya\n",
      "pairs.txt\n",
      "iss file\n",
      "shreya\n",
      "pairs_01.txt\n",
      "iss file\n",
      "shreya\n",
      "pairs_02.txt\n",
      "iss file\n",
      "shreya\n",
      "pairs_03.txt\n",
      "iss file\n",
      "shreya\n",
      "pairs_04.txt\n",
      "iss file\n",
      "shreya\n",
      "pairs_05.txt\n",
      "iss file\n",
      "shreya\n",
      "pairs_06.txt\n",
      "iss file\n",
      "shreya\n",
      "pairs_07.txt\n",
      "iss file\n",
      "shreya\n",
      "pairs_08.txt\n",
      "iss file\n",
      "shreya\n",
      "pairs_09.txt\n",
      "iss file\n",
      "shreya\n",
      "pairs_10.txt\n",
      "iss file\n"
     ]
    }
   ],
   "source": [
    "import os\n",
    "import shutil\n",
    "\n",
    "directory = r'C://Users//User//Documents//dim_reduction//lfw_funneled//'\n",
    "for dir1 in os.listdir(directory):\n",
    "    print('shreya')\n",
    "    print(dir1)\n",
    "    if os.path.isdir(directory+dir1):\n",
    "        print(directory+dir1)\n",
    "        if len(os.listdir(directory+dir1)) < 100 :\n",
    "            \n",
    "            shutil.rmtree(directory+dir1)\n",
    "        else :\n",
    "              print(dir1)\n",
    "    else :\n",
    "        print('iss file')\n",
    "                "
   ]
  },
  {
   "cell_type": "code",
   "execution_count": 56,
   "metadata": {},
   "outputs": [
    {
     "name": "stdout",
     "output_type": "stream",
     "text": [
      "C:\\Users\\User\\Documents\\AAIC\\EDA\\Dimenstionality_Reduction\\lfw_funneled\\Colin_Powell\n",
      "C:\\Users\\User\\Documents\\AAIC\\EDA\\Dimenstionality_Reduction\\lfw_funneled\\Donald_Rumsfeld\n",
      "C:\\Users\\User\\Documents\\AAIC\\EDA\\Dimenstionality_Reduction\\lfw_funneled\\George_W_Bush\n",
      "C:\\Users\\User\\Documents\\AAIC\\EDA\\Dimenstionality_Reduction\\lfw_funneled\\Gerhard_Schroeder\n",
      "C:\\Users\\User\\Documents\\AAIC\\EDA\\Dimenstionality_Reduction\\lfw_funneled\\Tony_Blair\n"
     ]
    }
   ],
   "source": [
    "import os\n",
    "import shutil\n",
    "\n",
    "directory = r'C:\\Users\\User\\Documents\\AAIC\\EDA\\Dimenstionality_Reduction\\lfw_funneled'\n",
    "for subdir in os.listdir(directory):\n",
    "    path = directory+'\\\\'+subdir\n",
    "    if os.path.isdir(path):\n",
    "        if len(os.listdir(path)) < 100 :\n",
    "            shutil.rmtree(path)\n",
    "        else :\n",
    "            print(path)"
   ]
  }
 ],
 "metadata": {
  "kernelspec": {
   "display_name": "Python 3",
   "language": "python",
   "name": "python3"
  },
  "language_info": {
   "codemirror_mode": {
    "name": "ipython",
    "version": 3
   },
   "file_extension": ".py",
   "mimetype": "text/x-python",
   "name": "python",
   "nbconvert_exporter": "python",
   "pygments_lexer": "ipython3",
   "version": "3.8.5"
  }
 },
 "nbformat": 4,
 "nbformat_minor": 2
}
